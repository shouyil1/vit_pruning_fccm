{
 "cells": [
  {
   "cell_type": "code",
   "execution_count": 1,
   "metadata": {},
   "outputs": [
    {
     "name": "stderr",
     "output_type": "stream",
     "text": [
      "/home/dhruv/anaconda3/envs/vit_prune_env/lib/python3.11/site-packages/torch/cuda/__init__.py:611: UserWarning: Can't initialize NVML\n",
      "  warnings.warn(\"Can't initialize NVML\")\n"
     ]
    }
   ],
   "source": [
    "from computing_modules import NetworkToEstimator\n",
    "import os\n",
    "import time\n",
    "import yaml\n",
    "import numpy as np\n",
    "from matplotlib import pyplot as plt"
   ]
  },
  {
   "cell_type": "code",
   "execution_count": 2,
   "metadata": {},
   "outputs": [
    {
     "name": "stderr",
     "output_type": "stream",
     "text": [
      "Some weights of DeiTForImageClassification were not initialized from the model checkpoint at facebook/deit-base-distilled-patch16-224 and are newly initialized: ['classifier.bias', 'classifier.weight']\n",
      "You should probably TRAIN this model on a down-stream task to be able to use it for predictions and inference.\n",
      "Using the latest cached version of the module from /home/dhruv/.cache/huggingface/modules/datasets_modules/datasets/imagenet-1k/09dbb3153f1ac686bac1f40d24f307c383b383bc171f2df5d9e91c1ad57455b9 (last modified on Wed Dec 20 17:18:06 2023) since it couldn't be found locally at imagenet-1k., or remotely on the Hugging Face Hub.\n",
      "Using the latest cached version of the module from /home/dhruv/.cache/huggingface/modules/datasets_modules/datasets/imagenet-1k/09dbb3153f1ac686bac1f40d24f307c383b383bc171f2df5d9e91c1ad57455b9 (last modified on Wed Dec 20 17:18:06 2023) since it couldn't be found locally at imagenet-1k., or remotely on the Hugging Face Hub.\n"
     ]
    },
    {
     "name": "stdout",
     "output_type": "stream",
     "text": [
      "[INFO] Register count_convNd() for <class 'torch.nn.modules.conv.Conv2d'>.\n",
      "[INFO] Register zero_ops() for <class 'torch.nn.modules.dropout.Dropout'>.\n",
      "[INFO] Register count_linear() for <class 'torch.nn.modules.linear.Linear'>.\n",
      "[INFO] Register count_normalization() for <class 'torch.nn.modules.normalization.LayerNorm'>.\n",
      "{'fpga': {'latency_ms': 12.2112, 'throughput_imgs_per_sec': 81.89203354297695}, 'cpu': {'latency_ms': 47.81705180066638, 'throughput_imgs_per_sec': 20.913041736003976}, 'gpu': {'latency_ms': 3.988447699521202, 'throughput_imgs_per_sec': 250.72411006418517}, 'giga_macs': 16.948641792, 'million_params': 86.415592, 'retained_heads_ratio': 1.0, 'test_accuracy': None, 'epochs': None, 'context': 'baseline', 'block_size': 32, 'batch_size': 1}\n"
     ]
    }
   ],
   "source": [
    "path = \"facebook/deit-base-distilled-patch16-224\"\n",
    "batch_size = 1\n",
    "\n",
    "current_network_estimator = NetworkToEstimator._get_network_estimator(  context='baseline',\n",
    "                                                                        path_to_model=path,\n",
    "                                                                        _batch_size=batch_size,\n",
    "                                                                        block_size_for_baseline=32,\n",
    "                                                                        flag=True)\n",
    "    \n",
    "print(current_network_estimator._compile_all_results())\n"
   ]
  },
  {
   "cell_type": "code",
   "execution_count": null,
   "metadata": {},
   "outputs": [],
   "source": [
    "import math\n",
    "\n",
    "N = 200\n",
    "b = 16\n",
    "\n",
    "f = 300 \n",
    "p_pe = 8\n",
    "p_t = 12\n",
    "p_c = 2\n",
    "p_h = 4\n",
    "\n",
    "compute_time_microS = math.ceil(N/b) * (math.ceil(b/p_pe))**2 * b * (1/f)\n",
    "\n",
    "data_bring_time_microS = math.ceil(N/b) * b**2 * p_h * (p_t + p_c) * 2 * (1/(77*1e3))\n",
    "\n",
    "print('Compute: ', compute_time_microS)\n",
    "print('Memory: ', data_bring_time_microS)"
   ]
  }
 ],
 "metadata": {
  "kernelspec": {
   "display_name": "vit_prune_env",
   "language": "python",
   "name": "python3"
  },
  "language_info": {
   "codemirror_mode": {
    "name": "ipython",
    "version": 3
   },
   "file_extension": ".py",
   "mimetype": "text/x-python",
   "name": "python",
   "nbconvert_exporter": "python",
   "pygments_lexer": "ipython3",
   "version": "3.11.5"
  }
 },
 "nbformat": 4,
 "nbformat_minor": 2
}
