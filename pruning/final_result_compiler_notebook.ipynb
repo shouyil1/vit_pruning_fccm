{
 "cells": [
  {
   "cell_type": "code",
   "execution_count": 1,
   "metadata": {},
   "outputs": [
    {
     "name": "stderr",
     "output_type": "stream",
     "text": [
      "Using the latest cached version of the module from /home/dhruv/.cache/huggingface/modules/datasets_modules/datasets/imagenet-1k/09dbb3153f1ac686bac1f40d24f307c383b383bc171f2df5d9e91c1ad57455b9 (last modified on Wed Dec 20 17:18:06 2023) since it couldn't be found locally at imagenet-1k., or remotely on the Hugging Face Hub.\n",
      "Using the latest cached version of the module from /home/dhruv/.cache/huggingface/modules/datasets_modules/datasets/imagenet-1k/09dbb3153f1ac686bac1f40d24f307c383b383bc171f2df5d9e91c1ad57455b9 (last modified on Wed Dec 20 17:18:06 2023) since it couldn't be found locally at imagenet-1k., or remotely on the Hugging Face Hub.\n"
     ]
    },
    {
     "name": "stdout",
     "output_type": "stream",
     "text": [
      "[INFO] Register count_convNd() for <class 'torch.nn.modules.conv.Conv2d'>.\n",
      "[INFO] Register zero_ops() for <class 'torch.nn.modules.dropout.Dropout'>.\n",
      "[INFO] Register count_linear() for <class 'torch.nn.modules.linear.Linear'>.\n",
      "[INFO] Register count_normalization() for <class 'torch.nn.modules.normalization.LayerNorm'>.\n"
     ]
    },
    {
     "name": "stderr",
     "output_type": "stream",
     "text": [
      "Using the latest cached version of the module from /home/dhruv/.cache/huggingface/modules/datasets_modules/datasets/imagenet-1k/09dbb3153f1ac686bac1f40d24f307c383b383bc171f2df5d9e91c1ad57455b9 (last modified on Wed Dec 20 17:18:06 2023) since it couldn't be found locally at imagenet-1k., or remotely on the Hugging Face Hub.\n",
      "Using the latest cached version of the module from /home/dhruv/.cache/huggingface/modules/datasets_modules/datasets/imagenet-1k/09dbb3153f1ac686bac1f40d24f307c383b383bc171f2df5d9e91c1ad57455b9 (last modified on Wed Dec 20 17:18:06 2023) since it couldn't be found locally at imagenet-1k., or remotely on the Hugging Face Hub.\n"
     ]
    },
    {
     "name": "stdout",
     "output_type": "stream",
     "text": [
      "[INFO] Register count_convNd() for <class 'torch.nn.modules.conv.Conv2d'>.\n",
      "[INFO] Register zero_ops() for <class 'torch.nn.modules.dropout.Dropout'>.\n",
      "[INFO] Register count_linear() for <class 'torch.nn.modules.linear.Linear'>.\n",
      "[INFO] Register count_normalization() for <class 'torch.nn.modules.normalization.LayerNorm'>.\n"
     ]
    },
    {
     "name": "stderr",
     "output_type": "stream",
     "text": [
      "Using the latest cached version of the module from /home/dhruv/.cache/huggingface/modules/datasets_modules/datasets/imagenet-1k/09dbb3153f1ac686bac1f40d24f307c383b383bc171f2df5d9e91c1ad57455b9 (last modified on Wed Dec 20 17:18:06 2023) since it couldn't be found locally at imagenet-1k., or remotely on the Hugging Face Hub.\n"
     ]
    },
    {
     "name": "stdout",
     "output_type": "stream",
     "text": [
      "removed heads 0, total_heads=66, percentage removed=0.0\n",
      "deit.encoder.layer.0.intermediate.dense, sparsity = 50.00\n",
      "deit.encoder.layer.0.output.dense, sparsity = 50.00\n",
      "deit.encoder.layer.1.intermediate.dense, sparsity = 50.00\n",
      "deit.encoder.layer.1.output.dense, sparsity = 50.00\n",
      "deit.encoder.layer.2.intermediate.dense, sparsity = 50.00\n",
      "deit.encoder.layer.2.output.dense, sparsity = 50.00\n",
      "deit.encoder.layer.3.intermediate.dense, sparsity = 50.00\n",
      "deit.encoder.layer.3.output.dense, sparsity = 50.00\n",
      "deit.encoder.layer.4.intermediate.dense, sparsity = 50.00\n",
      "deit.encoder.layer.4.output.dense, sparsity = 50.00\n",
      "deit.encoder.layer.5.intermediate.dense, sparsity = 50.00\n",
      "deit.encoder.layer.5.output.dense, sparsity = 50.00\n",
      "deit.encoder.layer.6.intermediate.dense, sparsity = 50.00\n",
      "deit.encoder.layer.6.output.dense, sparsity = 50.00\n",
      "deit.encoder.layer.7.intermediate.dense, sparsity = 50.00\n",
      "deit.encoder.layer.7.output.dense, sparsity = 50.00\n",
      "deit.encoder.layer.8.intermediate.dense, sparsity = 50.00\n",
      "deit.encoder.layer.8.output.dense, sparsity = 50.00\n",
      "deit.encoder.layer.9.intermediate.dense, sparsity = 50.00\n",
      "deit.encoder.layer.9.output.dense, sparsity = 50.00\n",
      "deit.encoder.layer.10.intermediate.dense, sparsity = 50.00\n",
      "deit.encoder.layer.10.output.dense, sparsity = 50.00\n",
      "deit.encoder.layer.11.intermediate.dense, sparsity = 50.00\n",
      "deit.encoder.layer.11.output.dense, sparsity = 50.00\n"
     ]
    },
    {
     "name": "stderr",
     "output_type": "stream",
     "text": [
      "Using the latest cached version of the module from /home/dhruv/.cache/huggingface/modules/datasets_modules/datasets/imagenet-1k/09dbb3153f1ac686bac1f40d24f307c383b383bc171f2df5d9e91c1ad57455b9 (last modified on Wed Dec 20 17:18:06 2023) since it couldn't be found locally at imagenet-1k., or remotely on the Hugging Face Hub.\n"
     ]
    },
    {
     "name": "stdout",
     "output_type": "stream",
     "text": [
      "removed heads 0, total_heads=66, percentage removed=0.0\n",
      "deit.encoder.layer.0.intermediate.dense, sparsity = 50.00\n",
      "deit.encoder.layer.0.output.dense, sparsity = 50.00\n",
      "deit.encoder.layer.1.intermediate.dense, sparsity = 50.00\n",
      "deit.encoder.layer.1.output.dense, sparsity = 50.00\n",
      "deit.encoder.layer.2.intermediate.dense, sparsity = 50.00\n",
      "deit.encoder.layer.2.output.dense, sparsity = 50.00\n",
      "deit.encoder.layer.3.intermediate.dense, sparsity = 50.00\n",
      "deit.encoder.layer.3.output.dense, sparsity = 50.00\n",
      "deit.encoder.layer.4.intermediate.dense, sparsity = 50.00\n",
      "deit.encoder.layer.4.output.dense, sparsity = 50.00\n",
      "deit.encoder.layer.5.intermediate.dense, sparsity = 50.00\n",
      "deit.encoder.layer.5.output.dense, sparsity = 50.00\n",
      "deit.encoder.layer.6.intermediate.dense, sparsity = 50.00\n",
      "deit.encoder.layer.6.output.dense, sparsity = 50.00\n",
      "deit.encoder.layer.7.intermediate.dense, sparsity = 50.00\n",
      "deit.encoder.layer.7.output.dense, sparsity = 50.00\n",
      "deit.encoder.layer.8.intermediate.dense, sparsity = 50.00\n",
      "deit.encoder.layer.8.output.dense, sparsity = 50.00\n",
      "deit.encoder.layer.9.intermediate.dense, sparsity = 50.00\n",
      "deit.encoder.layer.9.output.dense, sparsity = 50.00\n",
      "deit.encoder.layer.10.intermediate.dense, sparsity = 50.00\n",
      "deit.encoder.layer.10.output.dense, sparsity = 50.00\n",
      "deit.encoder.layer.11.intermediate.dense, sparsity = 50.00\n",
      "deit.encoder.layer.11.output.dense, sparsity = 50.00\n",
      "[INFO] Register count_convNd() for <class 'torch.nn.modules.conv.Conv2d'>.\n",
      "[INFO] Register zero_ops() for <class 'torch.nn.modules.dropout.Dropout'>.\n",
      "[INFO] Register count_linear() for <class 'torch.nn.modules.linear.Linear'>.\n",
      "[INFO] Register count_normalization() for <class 'torch.nn.modules.normalization.LayerNorm'>.\n"
     ]
    },
    {
     "name": "stderr",
     "output_type": "stream",
     "text": [
      "Using the latest cached version of the module from /home/dhruv/.cache/huggingface/modules/datasets_modules/datasets/imagenet-1k/09dbb3153f1ac686bac1f40d24f307c383b383bc171f2df5d9e91c1ad57455b9 (last modified on Wed Dec 20 17:18:06 2023) since it couldn't be found locally at imagenet-1k., or remotely on the Hugging Face Hub.\n"
     ]
    },
    {
     "name": "stdout",
     "output_type": "stream",
     "text": [
      "removed heads 0, total_heads=66, percentage removed=0.0\n",
      "deit.encoder.layer.0.intermediate.dense, sparsity = 50.00\n",
      "deit.encoder.layer.0.output.dense, sparsity = 50.00\n",
      "deit.encoder.layer.1.intermediate.dense, sparsity = 50.00\n",
      "deit.encoder.layer.1.output.dense, sparsity = 50.00\n",
      "deit.encoder.layer.2.intermediate.dense, sparsity = 50.00\n",
      "deit.encoder.layer.2.output.dense, sparsity = 50.00\n",
      "deit.encoder.layer.3.intermediate.dense, sparsity = 50.00\n",
      "deit.encoder.layer.3.output.dense, sparsity = 50.00\n",
      "deit.encoder.layer.4.intermediate.dense, sparsity = 50.00\n",
      "deit.encoder.layer.4.output.dense, sparsity = 50.00\n",
      "deit.encoder.layer.5.intermediate.dense, sparsity = 50.00\n",
      "deit.encoder.layer.5.output.dense, sparsity = 50.00\n",
      "deit.encoder.layer.6.intermediate.dense, sparsity = 50.00\n",
      "deit.encoder.layer.6.output.dense, sparsity = 50.00\n",
      "deit.encoder.layer.7.intermediate.dense, sparsity = 50.00\n",
      "deit.encoder.layer.7.output.dense, sparsity = 50.00\n",
      "deit.encoder.layer.8.intermediate.dense, sparsity = 50.00\n",
      "deit.encoder.layer.8.output.dense, sparsity = 50.00\n",
      "deit.encoder.layer.9.intermediate.dense, sparsity = 50.00\n",
      "deit.encoder.layer.9.output.dense, sparsity = 50.00\n",
      "deit.encoder.layer.10.intermediate.dense, sparsity = 50.00\n",
      "deit.encoder.layer.10.output.dense, sparsity = 50.00\n",
      "deit.encoder.layer.11.intermediate.dense, sparsity = 50.00\n",
      "deit.encoder.layer.11.output.dense, sparsity = 50.00\n"
     ]
    },
    {
     "name": "stderr",
     "output_type": "stream",
     "text": [
      "Using the latest cached version of the module from /home/dhruv/.cache/huggingface/modules/datasets_modules/datasets/imagenet-1k/09dbb3153f1ac686bac1f40d24f307c383b383bc171f2df5d9e91c1ad57455b9 (last modified on Wed Dec 20 17:18:06 2023) since it couldn't be found locally at imagenet-1k., or remotely on the Hugging Face Hub.\n"
     ]
    },
    {
     "name": "stdout",
     "output_type": "stream",
     "text": [
      "removed heads 0, total_heads=66, percentage removed=0.0\n",
      "deit.encoder.layer.0.intermediate.dense, sparsity = 50.00\n",
      "deit.encoder.layer.0.output.dense, sparsity = 50.00\n",
      "deit.encoder.layer.1.intermediate.dense, sparsity = 50.00\n",
      "deit.encoder.layer.1.output.dense, sparsity = 50.00\n",
      "deit.encoder.layer.2.intermediate.dense, sparsity = 50.00\n",
      "deit.encoder.layer.2.output.dense, sparsity = 50.00\n",
      "deit.encoder.layer.3.intermediate.dense, sparsity = 50.00\n",
      "deit.encoder.layer.3.output.dense, sparsity = 50.00\n",
      "deit.encoder.layer.4.intermediate.dense, sparsity = 50.00\n",
      "deit.encoder.layer.4.output.dense, sparsity = 50.00\n",
      "deit.encoder.layer.5.intermediate.dense, sparsity = 50.00\n",
      "deit.encoder.layer.5.output.dense, sparsity = 50.00\n",
      "deit.encoder.layer.6.intermediate.dense, sparsity = 50.00\n",
      "deit.encoder.layer.6.output.dense, sparsity = 50.00\n",
      "deit.encoder.layer.7.intermediate.dense, sparsity = 50.00\n",
      "deit.encoder.layer.7.output.dense, sparsity = 50.00\n",
      "deit.encoder.layer.8.intermediate.dense, sparsity = 50.00\n",
      "deit.encoder.layer.8.output.dense, sparsity = 50.00\n",
      "deit.encoder.layer.9.intermediate.dense, sparsity = 50.00\n",
      "deit.encoder.layer.9.output.dense, sparsity = 50.00\n",
      "deit.encoder.layer.10.intermediate.dense, sparsity = 50.00\n",
      "deit.encoder.layer.10.output.dense, sparsity = 50.00\n",
      "deit.encoder.layer.11.intermediate.dense, sparsity = 50.00\n",
      "deit.encoder.layer.11.output.dense, sparsity = 50.00\n",
      "[INFO] Register count_convNd() for <class 'torch.nn.modules.conv.Conv2d'>.\n",
      "[INFO] Register zero_ops() for <class 'torch.nn.modules.dropout.Dropout'>.\n",
      "[INFO] Register count_linear() for <class 'torch.nn.modules.linear.Linear'>.\n",
      "[INFO] Register count_normalization() for <class 'torch.nn.modules.normalization.LayerNorm'>.\n"
     ]
    },
    {
     "name": "stderr",
     "output_type": "stream",
     "text": [
      "Using the latest cached version of the module from /home/dhruv/.cache/huggingface/modules/datasets_modules/datasets/imagenet-1k/09dbb3153f1ac686bac1f40d24f307c383b383bc171f2df5d9e91c1ad57455b9 (last modified on Wed Dec 20 17:18:06 2023) since it couldn't be found locally at imagenet-1k., or remotely on the Hugging Face Hub.\n"
     ]
    },
    {
     "name": "stdout",
     "output_type": "stream",
     "text": [
      "removed heads 0, total_heads=67, percentage removed=0.0\n",
      "deit.encoder.layer.0.intermediate.dense, sparsity = 50.00\n",
      "deit.encoder.layer.0.output.dense, sparsity = 50.00\n",
      "deit.encoder.layer.1.intermediate.dense, sparsity = 50.00\n",
      "deit.encoder.layer.1.output.dense, sparsity = 50.00\n",
      "deit.encoder.layer.2.intermediate.dense, sparsity = 50.00\n",
      "deit.encoder.layer.2.output.dense, sparsity = 50.00\n",
      "deit.encoder.layer.3.intermediate.dense, sparsity = 50.00\n",
      "deit.encoder.layer.3.output.dense, sparsity = 50.00\n",
      "deit.encoder.layer.4.intermediate.dense, sparsity = 50.00\n",
      "deit.encoder.layer.4.output.dense, sparsity = 50.00\n",
      "deit.encoder.layer.5.intermediate.dense, sparsity = 50.00\n",
      "deit.encoder.layer.5.output.dense, sparsity = 50.00\n",
      "deit.encoder.layer.6.intermediate.dense, sparsity = 50.00\n",
      "deit.encoder.layer.6.output.dense, sparsity = 50.00\n",
      "deit.encoder.layer.7.intermediate.dense, sparsity = 50.00\n",
      "deit.encoder.layer.7.output.dense, sparsity = 50.00\n",
      "deit.encoder.layer.8.intermediate.dense, sparsity = 50.00\n",
      "deit.encoder.layer.8.output.dense, sparsity = 50.00\n",
      "deit.encoder.layer.9.intermediate.dense, sparsity = 50.00\n",
      "deit.encoder.layer.9.output.dense, sparsity = 50.00\n",
      "deit.encoder.layer.10.intermediate.dense, sparsity = 50.00\n",
      "deit.encoder.layer.10.output.dense, sparsity = 50.00\n",
      "deit.encoder.layer.11.intermediate.dense, sparsity = 50.00\n",
      "deit.encoder.layer.11.output.dense, sparsity = 50.00\n"
     ]
    },
    {
     "name": "stderr",
     "output_type": "stream",
     "text": [
      "Using the latest cached version of the module from /home/dhruv/.cache/huggingface/modules/datasets_modules/datasets/imagenet-1k/09dbb3153f1ac686bac1f40d24f307c383b383bc171f2df5d9e91c1ad57455b9 (last modified on Wed Dec 20 17:18:06 2023) since it couldn't be found locally at imagenet-1k., or remotely on the Hugging Face Hub.\n"
     ]
    },
    {
     "name": "stdout",
     "output_type": "stream",
     "text": [
      "removed heads 0, total_heads=67, percentage removed=0.0\n",
      "deit.encoder.layer.0.intermediate.dense, sparsity = 50.00\n",
      "deit.encoder.layer.0.output.dense, sparsity = 50.00\n",
      "deit.encoder.layer.1.intermediate.dense, sparsity = 50.00\n",
      "deit.encoder.layer.1.output.dense, sparsity = 50.00\n",
      "deit.encoder.layer.2.intermediate.dense, sparsity = 50.00\n",
      "deit.encoder.layer.2.output.dense, sparsity = 50.00\n",
      "deit.encoder.layer.3.intermediate.dense, sparsity = 50.00\n",
      "deit.encoder.layer.3.output.dense, sparsity = 50.00\n",
      "deit.encoder.layer.4.intermediate.dense, sparsity = 50.00\n",
      "deit.encoder.layer.4.output.dense, sparsity = 50.00\n",
      "deit.encoder.layer.5.intermediate.dense, sparsity = 50.00\n",
      "deit.encoder.layer.5.output.dense, sparsity = 50.00\n",
      "deit.encoder.layer.6.intermediate.dense, sparsity = 50.00\n",
      "deit.encoder.layer.6.output.dense, sparsity = 50.00\n",
      "deit.encoder.layer.7.intermediate.dense, sparsity = 50.00\n",
      "deit.encoder.layer.7.output.dense, sparsity = 50.00\n",
      "deit.encoder.layer.8.intermediate.dense, sparsity = 50.00\n",
      "deit.encoder.layer.8.output.dense, sparsity = 50.00\n",
      "deit.encoder.layer.9.intermediate.dense, sparsity = 50.00\n",
      "deit.encoder.layer.9.output.dense, sparsity = 50.00\n",
      "deit.encoder.layer.10.intermediate.dense, sparsity = 50.00\n",
      "deit.encoder.layer.10.output.dense, sparsity = 50.00\n",
      "deit.encoder.layer.11.intermediate.dense, sparsity = 50.00\n",
      "deit.encoder.layer.11.output.dense, sparsity = 50.00\n",
      "[INFO] Register count_convNd() for <class 'torch.nn.modules.conv.Conv2d'>.\n",
      "[INFO] Register zero_ops() for <class 'torch.nn.modules.dropout.Dropout'>.\n",
      "[INFO] Register count_linear() for <class 'torch.nn.modules.linear.Linear'>.\n",
      "[INFO] Register count_normalization() for <class 'torch.nn.modules.normalization.LayerNorm'>.\n"
     ]
    },
    {
     "name": "stderr",
     "output_type": "stream",
     "text": [
      "Using the latest cached version of the module from /home/dhruv/.cache/huggingface/modules/datasets_modules/datasets/imagenet-1k/09dbb3153f1ac686bac1f40d24f307c383b383bc171f2df5d9e91c1ad57455b9 (last modified on Wed Dec 20 17:18:06 2023) since it couldn't be found locally at imagenet-1k., or remotely on the Hugging Face Hub.\n"
     ]
    },
    {
     "name": "stdout",
     "output_type": "stream",
     "text": [
      "removed heads 0, total_heads=61, percentage removed=0.0\n",
      "deit.encoder.layer.0.intermediate.dense, sparsity = 50.00\n",
      "deit.encoder.layer.0.output.dense, sparsity = 50.00\n",
      "deit.encoder.layer.1.intermediate.dense, sparsity = 50.00\n",
      "deit.encoder.layer.1.output.dense, sparsity = 50.00\n",
      "deit.encoder.layer.2.intermediate.dense, sparsity = 50.00\n",
      "deit.encoder.layer.2.output.dense, sparsity = 50.00\n",
      "deit.encoder.layer.3.intermediate.dense, sparsity = 50.00\n",
      "deit.encoder.layer.3.output.dense, sparsity = 50.00\n",
      "deit.encoder.layer.4.intermediate.dense, sparsity = 50.00\n",
      "deit.encoder.layer.4.output.dense, sparsity = 50.00\n",
      "deit.encoder.layer.5.intermediate.dense, sparsity = 50.00\n",
      "deit.encoder.layer.5.output.dense, sparsity = 50.00\n",
      "deit.encoder.layer.6.intermediate.dense, sparsity = 50.00\n",
      "deit.encoder.layer.6.output.dense, sparsity = 50.00\n",
      "deit.encoder.layer.7.intermediate.dense, sparsity = 50.00\n",
      "deit.encoder.layer.7.output.dense, sparsity = 50.00\n",
      "deit.encoder.layer.8.intermediate.dense, sparsity = 50.00\n",
      "deit.encoder.layer.8.output.dense, sparsity = 50.00\n",
      "deit.encoder.layer.9.intermediate.dense, sparsity = 50.00\n",
      "deit.encoder.layer.9.output.dense, sparsity = 50.00\n",
      "deit.encoder.layer.10.intermediate.dense, sparsity = 50.00\n",
      "deit.encoder.layer.10.output.dense, sparsity = 50.00\n",
      "deit.encoder.layer.11.intermediate.dense, sparsity = 50.00\n",
      "deit.encoder.layer.11.output.dense, sparsity = 50.00\n"
     ]
    },
    {
     "name": "stderr",
     "output_type": "stream",
     "text": [
      "Using the latest cached version of the module from /home/dhruv/.cache/huggingface/modules/datasets_modules/datasets/imagenet-1k/09dbb3153f1ac686bac1f40d24f307c383b383bc171f2df5d9e91c1ad57455b9 (last modified on Wed Dec 20 17:18:06 2023) since it couldn't be found locally at imagenet-1k., or remotely on the Hugging Face Hub.\n"
     ]
    },
    {
     "name": "stdout",
     "output_type": "stream",
     "text": [
      "removed heads 0, total_heads=61, percentage removed=0.0\n",
      "deit.encoder.layer.0.intermediate.dense, sparsity = 50.00\n",
      "deit.encoder.layer.0.output.dense, sparsity = 50.00\n",
      "deit.encoder.layer.1.intermediate.dense, sparsity = 50.00\n",
      "deit.encoder.layer.1.output.dense, sparsity = 50.00\n",
      "deit.encoder.layer.2.intermediate.dense, sparsity = 50.00\n",
      "deit.encoder.layer.2.output.dense, sparsity = 50.00\n",
      "deit.encoder.layer.3.intermediate.dense, sparsity = 50.00\n",
      "deit.encoder.layer.3.output.dense, sparsity = 50.00\n",
      "deit.encoder.layer.4.intermediate.dense, sparsity = 50.00\n",
      "deit.encoder.layer.4.output.dense, sparsity = 50.00\n",
      "deit.encoder.layer.5.intermediate.dense, sparsity = 50.00\n",
      "deit.encoder.layer.5.output.dense, sparsity = 50.00\n",
      "deit.encoder.layer.6.intermediate.dense, sparsity = 50.00\n",
      "deit.encoder.layer.6.output.dense, sparsity = 50.00\n",
      "deit.encoder.layer.7.intermediate.dense, sparsity = 50.00\n",
      "deit.encoder.layer.7.output.dense, sparsity = 50.00\n",
      "deit.encoder.layer.8.intermediate.dense, sparsity = 50.00\n",
      "deit.encoder.layer.8.output.dense, sparsity = 50.00\n",
      "deit.encoder.layer.9.intermediate.dense, sparsity = 50.00\n",
      "deit.encoder.layer.9.output.dense, sparsity = 50.00\n",
      "deit.encoder.layer.10.intermediate.dense, sparsity = 50.00\n",
      "deit.encoder.layer.10.output.dense, sparsity = 50.00\n",
      "deit.encoder.layer.11.intermediate.dense, sparsity = 50.00\n",
      "deit.encoder.layer.11.output.dense, sparsity = 50.00\n",
      "[INFO] Register count_convNd() for <class 'torch.nn.modules.conv.Conv2d'>.\n",
      "[INFO] Register zero_ops() for <class 'torch.nn.modules.dropout.Dropout'>.\n",
      "[INFO] Register count_linear() for <class 'torch.nn.modules.linear.Linear'>.\n",
      "[INFO] Register count_normalization() for <class 'torch.nn.modules.normalization.LayerNorm'>.\n"
     ]
    },
    {
     "name": "stderr",
     "output_type": "stream",
     "text": [
      "Using the latest cached version of the module from /home/dhruv/.cache/huggingface/modules/datasets_modules/datasets/imagenet-1k/09dbb3153f1ac686bac1f40d24f307c383b383bc171f2df5d9e91c1ad57455b9 (last modified on Wed Dec 20 17:18:06 2023) since it couldn't be found locally at imagenet-1k., or remotely on the Hugging Face Hub.\n"
     ]
    },
    {
     "name": "stdout",
     "output_type": "stream",
     "text": [
      "removed heads 0, total_heads=60, percentage removed=0.0\n",
      "deit.encoder.layer.0.intermediate.dense, sparsity = 50.00\n",
      "deit.encoder.layer.0.output.dense, sparsity = 50.00\n",
      "deit.encoder.layer.1.intermediate.dense, sparsity = 50.00\n",
      "deit.encoder.layer.1.output.dense, sparsity = 50.00\n",
      "deit.encoder.layer.2.intermediate.dense, sparsity = 50.00\n",
      "deit.encoder.layer.2.output.dense, sparsity = 50.00\n",
      "deit.encoder.layer.3.intermediate.dense, sparsity = 50.00\n",
      "deit.encoder.layer.3.output.dense, sparsity = 50.00\n",
      "deit.encoder.layer.4.intermediate.dense, sparsity = 50.00\n",
      "deit.encoder.layer.4.output.dense, sparsity = 50.00\n",
      "deit.encoder.layer.5.intermediate.dense, sparsity = 50.00\n",
      "deit.encoder.layer.5.output.dense, sparsity = 50.00\n",
      "deit.encoder.layer.6.intermediate.dense, sparsity = 50.00\n",
      "deit.encoder.layer.6.output.dense, sparsity = 50.00\n",
      "deit.encoder.layer.7.intermediate.dense, sparsity = 50.00\n",
      "deit.encoder.layer.7.output.dense, sparsity = 50.00\n",
      "deit.encoder.layer.8.intermediate.dense, sparsity = 50.00\n",
      "deit.encoder.layer.8.output.dense, sparsity = 50.00\n",
      "deit.encoder.layer.9.intermediate.dense, sparsity = 50.00\n",
      "deit.encoder.layer.9.output.dense, sparsity = 50.00\n",
      "deit.encoder.layer.10.intermediate.dense, sparsity = 50.00\n",
      "deit.encoder.layer.10.output.dense, sparsity = 50.00\n",
      "deit.encoder.layer.11.intermediate.dense, sparsity = 50.00\n",
      "deit.encoder.layer.11.output.dense, sparsity = 50.00\n"
     ]
    },
    {
     "name": "stderr",
     "output_type": "stream",
     "text": [
      "Using the latest cached version of the module from /home/dhruv/.cache/huggingface/modules/datasets_modules/datasets/imagenet-1k/09dbb3153f1ac686bac1f40d24f307c383b383bc171f2df5d9e91c1ad57455b9 (last modified on Wed Dec 20 17:18:06 2023) since it couldn't be found locally at imagenet-1k., or remotely on the Hugging Face Hub.\n"
     ]
    },
    {
     "name": "stdout",
     "output_type": "stream",
     "text": [
      "removed heads 0, total_heads=60, percentage removed=0.0\n",
      "deit.encoder.layer.0.intermediate.dense, sparsity = 50.00\n",
      "deit.encoder.layer.0.output.dense, sparsity = 50.00\n",
      "deit.encoder.layer.1.intermediate.dense, sparsity = 50.00\n",
      "deit.encoder.layer.1.output.dense, sparsity = 50.00\n",
      "deit.encoder.layer.2.intermediate.dense, sparsity = 50.00\n",
      "deit.encoder.layer.2.output.dense, sparsity = 50.00\n",
      "deit.encoder.layer.3.intermediate.dense, sparsity = 50.00\n",
      "deit.encoder.layer.3.output.dense, sparsity = 50.00\n",
      "deit.encoder.layer.4.intermediate.dense, sparsity = 50.00\n",
      "deit.encoder.layer.4.output.dense, sparsity = 50.00\n",
      "deit.encoder.layer.5.intermediate.dense, sparsity = 50.00\n",
      "deit.encoder.layer.5.output.dense, sparsity = 50.00\n",
      "deit.encoder.layer.6.intermediate.dense, sparsity = 50.00\n",
      "deit.encoder.layer.6.output.dense, sparsity = 50.00\n",
      "deit.encoder.layer.7.intermediate.dense, sparsity = 50.00\n",
      "deit.encoder.layer.7.output.dense, sparsity = 50.00\n",
      "deit.encoder.layer.8.intermediate.dense, sparsity = 50.00\n",
      "deit.encoder.layer.8.output.dense, sparsity = 50.00\n",
      "deit.encoder.layer.9.intermediate.dense, sparsity = 50.00\n",
      "deit.encoder.layer.9.output.dense, sparsity = 50.00\n",
      "deit.encoder.layer.10.intermediate.dense, sparsity = 50.00\n",
      "deit.encoder.layer.10.output.dense, sparsity = 50.00\n",
      "deit.encoder.layer.11.intermediate.dense, sparsity = 50.00\n",
      "deit.encoder.layer.11.output.dense, sparsity = 50.00\n",
      "[INFO] Register count_convNd() for <class 'torch.nn.modules.conv.Conv2d'>.\n",
      "[INFO] Register zero_ops() for <class 'torch.nn.modules.dropout.Dropout'>.\n",
      "[INFO] Register count_linear() for <class 'torch.nn.modules.linear.Linear'>.\n",
      "[INFO] Register count_normalization() for <class 'torch.nn.modules.normalization.LayerNorm'>.\n"
     ]
    },
    {
     "name": "stderr",
     "output_type": "stream",
     "text": [
      "Using the latest cached version of the module from /home/dhruv/.cache/huggingface/modules/datasets_modules/datasets/imagenet-1k/09dbb3153f1ac686bac1f40d24f307c383b383bc171f2df5d9e91c1ad57455b9 (last modified on Wed Dec 20 17:18:06 2023) since it couldn't be found locally at imagenet-1k., or remotely on the Hugging Face Hub.\n"
     ]
    },
    {
     "name": "stdout",
     "output_type": "stream",
     "text": [
      "removed heads 0, total_heads=61, percentage removed=0.0\n",
      "deit.encoder.layer.0.intermediate.dense, sparsity = 50.00\n",
      "deit.encoder.layer.0.output.dense, sparsity = 50.00\n",
      "deit.encoder.layer.1.intermediate.dense, sparsity = 50.00\n",
      "deit.encoder.layer.1.output.dense, sparsity = 50.00\n",
      "deit.encoder.layer.2.intermediate.dense, sparsity = 50.00\n",
      "deit.encoder.layer.2.output.dense, sparsity = 50.00\n",
      "deit.encoder.layer.3.intermediate.dense, sparsity = 50.00\n",
      "deit.encoder.layer.3.output.dense, sparsity = 50.00\n",
      "deit.encoder.layer.4.intermediate.dense, sparsity = 50.00\n",
      "deit.encoder.layer.4.output.dense, sparsity = 50.00\n",
      "deit.encoder.layer.5.intermediate.dense, sparsity = 50.00\n",
      "deit.encoder.layer.5.output.dense, sparsity = 50.00\n",
      "deit.encoder.layer.6.intermediate.dense, sparsity = 50.00\n",
      "deit.encoder.layer.6.output.dense, sparsity = 50.00\n",
      "deit.encoder.layer.7.intermediate.dense, sparsity = 50.00\n",
      "deit.encoder.layer.7.output.dense, sparsity = 50.00\n",
      "deit.encoder.layer.8.intermediate.dense, sparsity = 50.00\n",
      "deit.encoder.layer.8.output.dense, sparsity = 50.00\n",
      "deit.encoder.layer.9.intermediate.dense, sparsity = 50.00\n",
      "deit.encoder.layer.9.output.dense, sparsity = 50.00\n",
      "deit.encoder.layer.10.intermediate.dense, sparsity = 50.00\n",
      "deit.encoder.layer.10.output.dense, sparsity = 50.00\n",
      "deit.encoder.layer.11.intermediate.dense, sparsity = 50.00\n",
      "deit.encoder.layer.11.output.dense, sparsity = 50.00\n"
     ]
    },
    {
     "name": "stderr",
     "output_type": "stream",
     "text": [
      "Using the latest cached version of the module from /home/dhruv/.cache/huggingface/modules/datasets_modules/datasets/imagenet-1k/09dbb3153f1ac686bac1f40d24f307c383b383bc171f2df5d9e91c1ad57455b9 (last modified on Wed Dec 20 17:18:06 2023) since it couldn't be found locally at imagenet-1k., or remotely on the Hugging Face Hub.\n"
     ]
    },
    {
     "name": "stdout",
     "output_type": "stream",
     "text": [
      "removed heads 0, total_heads=61, percentage removed=0.0\n",
      "deit.encoder.layer.0.intermediate.dense, sparsity = 50.00\n",
      "deit.encoder.layer.0.output.dense, sparsity = 50.00\n",
      "deit.encoder.layer.1.intermediate.dense, sparsity = 50.00\n",
      "deit.encoder.layer.1.output.dense, sparsity = 50.00\n",
      "deit.encoder.layer.2.intermediate.dense, sparsity = 50.00\n",
      "deit.encoder.layer.2.output.dense, sparsity = 50.00\n",
      "deit.encoder.layer.3.intermediate.dense, sparsity = 50.00\n",
      "deit.encoder.layer.3.output.dense, sparsity = 50.00\n",
      "deit.encoder.layer.4.intermediate.dense, sparsity = 50.00\n",
      "deit.encoder.layer.4.output.dense, sparsity = 50.00\n",
      "deit.encoder.layer.5.intermediate.dense, sparsity = 50.00\n",
      "deit.encoder.layer.5.output.dense, sparsity = 50.00\n",
      "deit.encoder.layer.6.intermediate.dense, sparsity = 50.00\n",
      "deit.encoder.layer.6.output.dense, sparsity = 50.00\n",
      "deit.encoder.layer.7.intermediate.dense, sparsity = 50.00\n",
      "deit.encoder.layer.7.output.dense, sparsity = 50.00\n",
      "deit.encoder.layer.8.intermediate.dense, sparsity = 50.00\n",
      "deit.encoder.layer.8.output.dense, sparsity = 50.00\n",
      "deit.encoder.layer.9.intermediate.dense, sparsity = 50.00\n",
      "deit.encoder.layer.9.output.dense, sparsity = 50.00\n",
      "deit.encoder.layer.10.intermediate.dense, sparsity = 50.00\n",
      "deit.encoder.layer.10.output.dense, sparsity = 50.00\n",
      "deit.encoder.layer.11.intermediate.dense, sparsity = 50.00\n",
      "deit.encoder.layer.11.output.dense, sparsity = 50.00\n",
      "[INFO] Register count_convNd() for <class 'torch.nn.modules.conv.Conv2d'>.\n",
      "[INFO] Register zero_ops() for <class 'torch.nn.modules.dropout.Dropout'>.\n",
      "[INFO] Register count_linear() for <class 'torch.nn.modules.linear.Linear'>.\n",
      "[INFO] Register count_normalization() for <class 'torch.nn.modules.normalization.LayerNorm'>.\n"
     ]
    },
    {
     "name": "stderr",
     "output_type": "stream",
     "text": [
      "Using the latest cached version of the module from /home/dhruv/.cache/huggingface/modules/datasets_modules/datasets/imagenet-1k/09dbb3153f1ac686bac1f40d24f307c383b383bc171f2df5d9e91c1ad57455b9 (last modified on Wed Dec 20 17:18:06 2023) since it couldn't be found locally at imagenet-1k., or remotely on the Hugging Face Hub.\n"
     ]
    },
    {
     "name": "stdout",
     "output_type": "stream",
     "text": [
      "removed heads 0, total_heads=71, percentage removed=0.0\n",
      "deit.encoder.layer.0.intermediate.dense, sparsity = 29.95\n",
      "deit.encoder.layer.0.output.dense, sparsity = 29.95\n",
      "deit.encoder.layer.1.intermediate.dense, sparsity = 29.95\n",
      "deit.encoder.layer.1.output.dense, sparsity = 29.95\n",
      "deit.encoder.layer.2.intermediate.dense, sparsity = 29.95\n",
      "deit.encoder.layer.2.output.dense, sparsity = 29.95\n",
      "deit.encoder.layer.3.intermediate.dense, sparsity = 29.95\n",
      "deit.encoder.layer.3.output.dense, sparsity = 29.95\n",
      "deit.encoder.layer.4.intermediate.dense, sparsity = 29.95\n",
      "deit.encoder.layer.4.output.dense, sparsity = 29.95\n",
      "deit.encoder.layer.5.intermediate.dense, sparsity = 29.95\n",
      "deit.encoder.layer.5.output.dense, sparsity = 29.95\n",
      "deit.encoder.layer.6.intermediate.dense, sparsity = 29.95\n",
      "deit.encoder.layer.6.output.dense, sparsity = 29.95\n",
      "deit.encoder.layer.7.intermediate.dense, sparsity = 29.95\n",
      "deit.encoder.layer.7.output.dense, sparsity = 29.95\n",
      "deit.encoder.layer.8.intermediate.dense, sparsity = 29.95\n",
      "deit.encoder.layer.8.output.dense, sparsity = 29.95\n",
      "deit.encoder.layer.9.intermediate.dense, sparsity = 29.95\n",
      "deit.encoder.layer.9.output.dense, sparsity = 29.95\n",
      "deit.encoder.layer.10.intermediate.dense, sparsity = 29.95\n",
      "deit.encoder.layer.10.output.dense, sparsity = 29.95\n",
      "deit.encoder.layer.11.intermediate.dense, sparsity = 29.95\n",
      "deit.encoder.layer.11.output.dense, sparsity = 29.95\n"
     ]
    },
    {
     "name": "stderr",
     "output_type": "stream",
     "text": [
      "Using the latest cached version of the module from /home/dhruv/.cache/huggingface/modules/datasets_modules/datasets/imagenet-1k/09dbb3153f1ac686bac1f40d24f307c383b383bc171f2df5d9e91c1ad57455b9 (last modified on Wed Dec 20 17:18:06 2023) since it couldn't be found locally at imagenet-1k., or remotely on the Hugging Face Hub.\n"
     ]
    },
    {
     "name": "stdout",
     "output_type": "stream",
     "text": [
      "removed heads 0, total_heads=71, percentage removed=0.0\n",
      "deit.encoder.layer.0.intermediate.dense, sparsity = 29.95\n",
      "deit.encoder.layer.0.output.dense, sparsity = 29.95\n",
      "deit.encoder.layer.1.intermediate.dense, sparsity = 29.95\n",
      "deit.encoder.layer.1.output.dense, sparsity = 29.95\n",
      "deit.encoder.layer.2.intermediate.dense, sparsity = 29.95\n",
      "deit.encoder.layer.2.output.dense, sparsity = 29.95\n",
      "deit.encoder.layer.3.intermediate.dense, sparsity = 29.95\n",
      "deit.encoder.layer.3.output.dense, sparsity = 29.95\n",
      "deit.encoder.layer.4.intermediate.dense, sparsity = 29.95\n",
      "deit.encoder.layer.4.output.dense, sparsity = 29.95\n",
      "deit.encoder.layer.5.intermediate.dense, sparsity = 29.95\n",
      "deit.encoder.layer.5.output.dense, sparsity = 29.95\n",
      "deit.encoder.layer.6.intermediate.dense, sparsity = 29.95\n",
      "deit.encoder.layer.6.output.dense, sparsity = 29.95\n",
      "deit.encoder.layer.7.intermediate.dense, sparsity = 29.95\n",
      "deit.encoder.layer.7.output.dense, sparsity = 29.95\n",
      "deit.encoder.layer.8.intermediate.dense, sparsity = 29.95\n",
      "deit.encoder.layer.8.output.dense, sparsity = 29.95\n",
      "deit.encoder.layer.9.intermediate.dense, sparsity = 29.95\n",
      "deit.encoder.layer.9.output.dense, sparsity = 29.95\n",
      "deit.encoder.layer.10.intermediate.dense, sparsity = 29.95\n",
      "deit.encoder.layer.10.output.dense, sparsity = 29.95\n",
      "deit.encoder.layer.11.intermediate.dense, sparsity = 29.95\n",
      "deit.encoder.layer.11.output.dense, sparsity = 29.95\n",
      "[INFO] Register count_convNd() for <class 'torch.nn.modules.conv.Conv2d'>.\n",
      "[INFO] Register zero_ops() for <class 'torch.nn.modules.dropout.Dropout'>.\n",
      "[INFO] Register count_linear() for <class 'torch.nn.modules.linear.Linear'>.\n",
      "[INFO] Register count_normalization() for <class 'torch.nn.modules.normalization.LayerNorm'>.\n"
     ]
    },
    {
     "name": "stderr",
     "output_type": "stream",
     "text": [
      "Using the latest cached version of the module from /home/dhruv/.cache/huggingface/modules/datasets_modules/datasets/imagenet-1k/09dbb3153f1ac686bac1f40d24f307c383b383bc171f2df5d9e91c1ad57455b9 (last modified on Wed Dec 20 17:18:06 2023) since it couldn't be found locally at imagenet-1k., or remotely on the Hugging Face Hub.\n"
     ]
    },
    {
     "name": "stdout",
     "output_type": "stream",
     "text": [
      "removed heads 0, total_heads=71, percentage removed=0.0\n",
      "deit.encoder.layer.0.intermediate.dense, sparsity = 29.95\n",
      "deit.encoder.layer.0.output.dense, sparsity = 29.95\n",
      "deit.encoder.layer.1.intermediate.dense, sparsity = 29.95\n",
      "deit.encoder.layer.1.output.dense, sparsity = 29.95\n",
      "deit.encoder.layer.2.intermediate.dense, sparsity = 29.95\n",
      "deit.encoder.layer.2.output.dense, sparsity = 29.95\n",
      "deit.encoder.layer.3.intermediate.dense, sparsity = 29.95\n",
      "deit.encoder.layer.3.output.dense, sparsity = 29.95\n",
      "deit.encoder.layer.4.intermediate.dense, sparsity = 29.95\n",
      "deit.encoder.layer.4.output.dense, sparsity = 29.95\n",
      "deit.encoder.layer.5.intermediate.dense, sparsity = 29.95\n",
      "deit.encoder.layer.5.output.dense, sparsity = 29.95\n",
      "deit.encoder.layer.6.intermediate.dense, sparsity = 29.95\n",
      "deit.encoder.layer.6.output.dense, sparsity = 29.95\n",
      "deit.encoder.layer.7.intermediate.dense, sparsity = 29.95\n",
      "deit.encoder.layer.7.output.dense, sparsity = 29.95\n",
      "deit.encoder.layer.8.intermediate.dense, sparsity = 29.95\n",
      "deit.encoder.layer.8.output.dense, sparsity = 29.95\n",
      "deit.encoder.layer.9.intermediate.dense, sparsity = 29.95\n",
      "deit.encoder.layer.9.output.dense, sparsity = 29.95\n",
      "deit.encoder.layer.10.intermediate.dense, sparsity = 29.95\n",
      "deit.encoder.layer.10.output.dense, sparsity = 29.95\n",
      "deit.encoder.layer.11.intermediate.dense, sparsity = 29.95\n",
      "deit.encoder.layer.11.output.dense, sparsity = 29.95\n"
     ]
    },
    {
     "name": "stderr",
     "output_type": "stream",
     "text": [
      "Using the latest cached version of the module from /home/dhruv/.cache/huggingface/modules/datasets_modules/datasets/imagenet-1k/09dbb3153f1ac686bac1f40d24f307c383b383bc171f2df5d9e91c1ad57455b9 (last modified on Wed Dec 20 17:18:06 2023) since it couldn't be found locally at imagenet-1k., or remotely on the Hugging Face Hub.\n"
     ]
    },
    {
     "name": "stdout",
     "output_type": "stream",
     "text": [
      "removed heads 0, total_heads=71, percentage removed=0.0\n",
      "deit.encoder.layer.0.intermediate.dense, sparsity = 29.95\n",
      "deit.encoder.layer.0.output.dense, sparsity = 29.95\n",
      "deit.encoder.layer.1.intermediate.dense, sparsity = 29.95\n",
      "deit.encoder.layer.1.output.dense, sparsity = 29.95\n",
      "deit.encoder.layer.2.intermediate.dense, sparsity = 29.95\n",
      "deit.encoder.layer.2.output.dense, sparsity = 29.95\n",
      "deit.encoder.layer.3.intermediate.dense, sparsity = 29.95\n",
      "deit.encoder.layer.3.output.dense, sparsity = 29.95\n",
      "deit.encoder.layer.4.intermediate.dense, sparsity = 29.95\n",
      "deit.encoder.layer.4.output.dense, sparsity = 29.95\n",
      "deit.encoder.layer.5.intermediate.dense, sparsity = 29.95\n",
      "deit.encoder.layer.5.output.dense, sparsity = 29.95\n",
      "deit.encoder.layer.6.intermediate.dense, sparsity = 29.95\n",
      "deit.encoder.layer.6.output.dense, sparsity = 29.95\n",
      "deit.encoder.layer.7.intermediate.dense, sparsity = 29.95\n",
      "deit.encoder.layer.7.output.dense, sparsity = 29.95\n",
      "deit.encoder.layer.8.intermediate.dense, sparsity = 29.95\n",
      "deit.encoder.layer.8.output.dense, sparsity = 29.95\n",
      "deit.encoder.layer.9.intermediate.dense, sparsity = 29.95\n",
      "deit.encoder.layer.9.output.dense, sparsity = 29.95\n",
      "deit.encoder.layer.10.intermediate.dense, sparsity = 29.95\n",
      "deit.encoder.layer.10.output.dense, sparsity = 29.95\n",
      "deit.encoder.layer.11.intermediate.dense, sparsity = 29.95\n",
      "deit.encoder.layer.11.output.dense, sparsity = 29.95\n",
      "[INFO] Register count_convNd() for <class 'torch.nn.modules.conv.Conv2d'>.\n",
      "[INFO] Register zero_ops() for <class 'torch.nn.modules.dropout.Dropout'>.\n",
      "[INFO] Register count_linear() for <class 'torch.nn.modules.linear.Linear'>.\n",
      "[INFO] Register count_normalization() for <class 'torch.nn.modules.normalization.LayerNorm'>.\n"
     ]
    },
    {
     "name": "stderr",
     "output_type": "stream",
     "text": [
      "Using the latest cached version of the module from /home/dhruv/.cache/huggingface/modules/datasets_modules/datasets/imagenet-1k/09dbb3153f1ac686bac1f40d24f307c383b383bc171f2df5d9e91c1ad57455b9 (last modified on Wed Dec 20 17:18:06 2023) since it couldn't be found locally at imagenet-1k., or remotely on the Hugging Face Hub.\n"
     ]
    },
    {
     "name": "stdout",
     "output_type": "stream",
     "text": [
      "removed heads 0, total_heads=71, percentage removed=0.0\n",
      "deit.encoder.layer.0.intermediate.dense, sparsity = 29.95\n",
      "deit.encoder.layer.0.output.dense, sparsity = 29.95\n",
      "deit.encoder.layer.1.intermediate.dense, sparsity = 29.95\n",
      "deit.encoder.layer.1.output.dense, sparsity = 29.95\n",
      "deit.encoder.layer.2.intermediate.dense, sparsity = 29.95\n",
      "deit.encoder.layer.2.output.dense, sparsity = 29.95\n",
      "deit.encoder.layer.3.intermediate.dense, sparsity = 29.95\n",
      "deit.encoder.layer.3.output.dense, sparsity = 29.95\n",
      "deit.encoder.layer.4.intermediate.dense, sparsity = 29.95\n",
      "deit.encoder.layer.4.output.dense, sparsity = 29.95\n",
      "deit.encoder.layer.5.intermediate.dense, sparsity = 29.95\n",
      "deit.encoder.layer.5.output.dense, sparsity = 29.95\n",
      "deit.encoder.layer.6.intermediate.dense, sparsity = 29.95\n",
      "deit.encoder.layer.6.output.dense, sparsity = 29.95\n",
      "deit.encoder.layer.7.intermediate.dense, sparsity = 29.95\n",
      "deit.encoder.layer.7.output.dense, sparsity = 29.95\n",
      "deit.encoder.layer.8.intermediate.dense, sparsity = 29.95\n",
      "deit.encoder.layer.8.output.dense, sparsity = 29.95\n",
      "deit.encoder.layer.9.intermediate.dense, sparsity = 29.95\n",
      "deit.encoder.layer.9.output.dense, sparsity = 29.95\n",
      "deit.encoder.layer.10.intermediate.dense, sparsity = 29.95\n",
      "deit.encoder.layer.10.output.dense, sparsity = 29.95\n",
      "deit.encoder.layer.11.intermediate.dense, sparsity = 29.95\n",
      "deit.encoder.layer.11.output.dense, sparsity = 29.95\n"
     ]
    },
    {
     "name": "stderr",
     "output_type": "stream",
     "text": [
      "Using the latest cached version of the module from /home/dhruv/.cache/huggingface/modules/datasets_modules/datasets/imagenet-1k/09dbb3153f1ac686bac1f40d24f307c383b383bc171f2df5d9e91c1ad57455b9 (last modified on Wed Dec 20 17:18:06 2023) since it couldn't be found locally at imagenet-1k., or remotely on the Hugging Face Hub.\n"
     ]
    },
    {
     "name": "stdout",
     "output_type": "stream",
     "text": [
      "removed heads 0, total_heads=71, percentage removed=0.0\n",
      "deit.encoder.layer.0.intermediate.dense, sparsity = 29.95\n",
      "deit.encoder.layer.0.output.dense, sparsity = 29.95\n",
      "deit.encoder.layer.1.intermediate.dense, sparsity = 29.95\n",
      "deit.encoder.layer.1.output.dense, sparsity = 29.95\n",
      "deit.encoder.layer.2.intermediate.dense, sparsity = 29.95\n",
      "deit.encoder.layer.2.output.dense, sparsity = 29.95\n",
      "deit.encoder.layer.3.intermediate.dense, sparsity = 29.95\n",
      "deit.encoder.layer.3.output.dense, sparsity = 29.95\n",
      "deit.encoder.layer.4.intermediate.dense, sparsity = 29.95\n",
      "deit.encoder.layer.4.output.dense, sparsity = 29.95\n",
      "deit.encoder.layer.5.intermediate.dense, sparsity = 29.95\n",
      "deit.encoder.layer.5.output.dense, sparsity = 29.95\n",
      "deit.encoder.layer.6.intermediate.dense, sparsity = 29.95\n",
      "deit.encoder.layer.6.output.dense, sparsity = 29.95\n",
      "deit.encoder.layer.7.intermediate.dense, sparsity = 29.95\n",
      "deit.encoder.layer.7.output.dense, sparsity = 29.95\n",
      "deit.encoder.layer.8.intermediate.dense, sparsity = 29.95\n",
      "deit.encoder.layer.8.output.dense, sparsity = 29.95\n",
      "deit.encoder.layer.9.intermediate.dense, sparsity = 29.95\n",
      "deit.encoder.layer.9.output.dense, sparsity = 29.95\n",
      "deit.encoder.layer.10.intermediate.dense, sparsity = 29.95\n",
      "deit.encoder.layer.10.output.dense, sparsity = 29.95\n",
      "deit.encoder.layer.11.intermediate.dense, sparsity = 29.95\n",
      "deit.encoder.layer.11.output.dense, sparsity = 29.95\n",
      "[INFO] Register count_convNd() for <class 'torch.nn.modules.conv.Conv2d'>.\n",
      "[INFO] Register zero_ops() for <class 'torch.nn.modules.dropout.Dropout'>.\n",
      "[INFO] Register count_linear() for <class 'torch.nn.modules.linear.Linear'>.\n",
      "[INFO] Register count_normalization() for <class 'torch.nn.modules.normalization.LayerNorm'>.\n"
     ]
    },
    {
     "name": "stderr",
     "output_type": "stream",
     "text": [
      "Using the latest cached version of the module from /home/dhruv/.cache/huggingface/modules/datasets_modules/datasets/imagenet-1k/09dbb3153f1ac686bac1f40d24f307c383b383bc171f2df5d9e91c1ad57455b9 (last modified on Wed Dec 20 17:18:06 2023) since it couldn't be found locally at imagenet-1k., or remotely on the Hugging Face Hub.\n"
     ]
    },
    {
     "name": "stdout",
     "output_type": "stream",
     "text": [
      "removed heads 0, total_heads=70, percentage removed=0.0\n",
      "deit.encoder.layer.0.intermediate.dense, sparsity = 29.95\n",
      "deit.encoder.layer.0.output.dense, sparsity = 29.95\n",
      "deit.encoder.layer.1.intermediate.dense, sparsity = 29.95\n",
      "deit.encoder.layer.1.output.dense, sparsity = 29.95\n",
      "deit.encoder.layer.2.intermediate.dense, sparsity = 29.95\n",
      "deit.encoder.layer.2.output.dense, sparsity = 29.95\n",
      "deit.encoder.layer.3.intermediate.dense, sparsity = 29.95\n",
      "deit.encoder.layer.3.output.dense, sparsity = 29.95\n",
      "deit.encoder.layer.4.intermediate.dense, sparsity = 29.95\n",
      "deit.encoder.layer.4.output.dense, sparsity = 29.95\n",
      "deit.encoder.layer.5.intermediate.dense, sparsity = 29.95\n",
      "deit.encoder.layer.5.output.dense, sparsity = 29.95\n",
      "deit.encoder.layer.6.intermediate.dense, sparsity = 29.95\n",
      "deit.encoder.layer.6.output.dense, sparsity = 29.95\n",
      "deit.encoder.layer.7.intermediate.dense, sparsity = 29.95\n",
      "deit.encoder.layer.7.output.dense, sparsity = 29.95\n",
      "deit.encoder.layer.8.intermediate.dense, sparsity = 29.95\n",
      "deit.encoder.layer.8.output.dense, sparsity = 29.95\n",
      "deit.encoder.layer.9.intermediate.dense, sparsity = 29.95\n",
      "deit.encoder.layer.9.output.dense, sparsity = 29.95\n",
      "deit.encoder.layer.10.intermediate.dense, sparsity = 29.95\n",
      "deit.encoder.layer.10.output.dense, sparsity = 29.95\n",
      "deit.encoder.layer.11.intermediate.dense, sparsity = 29.95\n",
      "deit.encoder.layer.11.output.dense, sparsity = 29.95\n"
     ]
    },
    {
     "name": "stderr",
     "output_type": "stream",
     "text": [
      "Using the latest cached version of the module from /home/dhruv/.cache/huggingface/modules/datasets_modules/datasets/imagenet-1k/09dbb3153f1ac686bac1f40d24f307c383b383bc171f2df5d9e91c1ad57455b9 (last modified on Wed Dec 20 17:18:06 2023) since it couldn't be found locally at imagenet-1k., or remotely on the Hugging Face Hub.\n"
     ]
    },
    {
     "name": "stdout",
     "output_type": "stream",
     "text": [
      "removed heads 0, total_heads=70, percentage removed=0.0\n",
      "deit.encoder.layer.0.intermediate.dense, sparsity = 29.95\n",
      "deit.encoder.layer.0.output.dense, sparsity = 29.95\n",
      "deit.encoder.layer.1.intermediate.dense, sparsity = 29.95\n",
      "deit.encoder.layer.1.output.dense, sparsity = 29.95\n",
      "deit.encoder.layer.2.intermediate.dense, sparsity = 29.95\n",
      "deit.encoder.layer.2.output.dense, sparsity = 29.95\n",
      "deit.encoder.layer.3.intermediate.dense, sparsity = 29.95\n",
      "deit.encoder.layer.3.output.dense, sparsity = 29.95\n",
      "deit.encoder.layer.4.intermediate.dense, sparsity = 29.95\n",
      "deit.encoder.layer.4.output.dense, sparsity = 29.95\n",
      "deit.encoder.layer.5.intermediate.dense, sparsity = 29.95\n",
      "deit.encoder.layer.5.output.dense, sparsity = 29.95\n",
      "deit.encoder.layer.6.intermediate.dense, sparsity = 29.95\n",
      "deit.encoder.layer.6.output.dense, sparsity = 29.95\n",
      "deit.encoder.layer.7.intermediate.dense, sparsity = 29.95\n",
      "deit.encoder.layer.7.output.dense, sparsity = 29.95\n",
      "deit.encoder.layer.8.intermediate.dense, sparsity = 29.95\n",
      "deit.encoder.layer.8.output.dense, sparsity = 29.95\n",
      "deit.encoder.layer.9.intermediate.dense, sparsity = 29.95\n",
      "deit.encoder.layer.9.output.dense, sparsity = 29.95\n",
      "deit.encoder.layer.10.intermediate.dense, sparsity = 29.95\n",
      "deit.encoder.layer.10.output.dense, sparsity = 29.95\n",
      "deit.encoder.layer.11.intermediate.dense, sparsity = 29.95\n",
      "deit.encoder.layer.11.output.dense, sparsity = 29.95\n",
      "[INFO] Register count_convNd() for <class 'torch.nn.modules.conv.Conv2d'>.\n",
      "[INFO] Register zero_ops() for <class 'torch.nn.modules.dropout.Dropout'>.\n",
      "[INFO] Register count_linear() for <class 'torch.nn.modules.linear.Linear'>.\n",
      "[INFO] Register count_normalization() for <class 'torch.nn.modules.normalization.LayerNorm'>.\n"
     ]
    },
    {
     "name": "stderr",
     "output_type": "stream",
     "text": [
      "Using the latest cached version of the module from /home/dhruv/.cache/huggingface/modules/datasets_modules/datasets/imagenet-1k/09dbb3153f1ac686bac1f40d24f307c383b383bc171f2df5d9e91c1ad57455b9 (last modified on Wed Dec 20 17:18:06 2023) since it couldn't be found locally at imagenet-1k., or remotely on the Hugging Face Hub.\n"
     ]
    },
    {
     "name": "stdout",
     "output_type": "stream",
     "text": [
      "removed heads 0, total_heads=68, percentage removed=0.0\n",
      "deit.encoder.layer.0.intermediate.dense, sparsity = 29.95\n",
      "deit.encoder.layer.0.output.dense, sparsity = 29.95\n",
      "deit.encoder.layer.1.intermediate.dense, sparsity = 29.95\n",
      "deit.encoder.layer.1.output.dense, sparsity = 29.95\n",
      "deit.encoder.layer.2.intermediate.dense, sparsity = 29.95\n",
      "deit.encoder.layer.2.output.dense, sparsity = 29.95\n",
      "deit.encoder.layer.3.intermediate.dense, sparsity = 29.95\n",
      "deit.encoder.layer.3.output.dense, sparsity = 29.95\n",
      "deit.encoder.layer.4.intermediate.dense, sparsity = 29.95\n",
      "deit.encoder.layer.4.output.dense, sparsity = 29.95\n",
      "deit.encoder.layer.5.intermediate.dense, sparsity = 29.95\n",
      "deit.encoder.layer.5.output.dense, sparsity = 29.95\n",
      "deit.encoder.layer.6.intermediate.dense, sparsity = 29.95\n",
      "deit.encoder.layer.6.output.dense, sparsity = 29.95\n",
      "deit.encoder.layer.7.intermediate.dense, sparsity = 29.95\n",
      "deit.encoder.layer.7.output.dense, sparsity = 29.95\n",
      "deit.encoder.layer.8.intermediate.dense, sparsity = 29.95\n",
      "deit.encoder.layer.8.output.dense, sparsity = 29.95\n",
      "deit.encoder.layer.9.intermediate.dense, sparsity = 29.95\n",
      "deit.encoder.layer.9.output.dense, sparsity = 29.95\n",
      "deit.encoder.layer.10.intermediate.dense, sparsity = 29.95\n",
      "deit.encoder.layer.10.output.dense, sparsity = 29.95\n",
      "deit.encoder.layer.11.intermediate.dense, sparsity = 29.95\n",
      "deit.encoder.layer.11.output.dense, sparsity = 29.95\n"
     ]
    },
    {
     "name": "stderr",
     "output_type": "stream",
     "text": [
      "Using the latest cached version of the module from /home/dhruv/.cache/huggingface/modules/datasets_modules/datasets/imagenet-1k/09dbb3153f1ac686bac1f40d24f307c383b383bc171f2df5d9e91c1ad57455b9 (last modified on Wed Dec 20 17:18:06 2023) since it couldn't be found locally at imagenet-1k., or remotely on the Hugging Face Hub.\n"
     ]
    },
    {
     "name": "stdout",
     "output_type": "stream",
     "text": [
      "removed heads 0, total_heads=68, percentage removed=0.0\n",
      "deit.encoder.layer.0.intermediate.dense, sparsity = 29.95\n",
      "deit.encoder.layer.0.output.dense, sparsity = 29.95\n",
      "deit.encoder.layer.1.intermediate.dense, sparsity = 29.95\n",
      "deit.encoder.layer.1.output.dense, sparsity = 29.95\n",
      "deit.encoder.layer.2.intermediate.dense, sparsity = 29.95\n",
      "deit.encoder.layer.2.output.dense, sparsity = 29.95\n",
      "deit.encoder.layer.3.intermediate.dense, sparsity = 29.95\n",
      "deit.encoder.layer.3.output.dense, sparsity = 29.95\n",
      "deit.encoder.layer.4.intermediate.dense, sparsity = 29.95\n",
      "deit.encoder.layer.4.output.dense, sparsity = 29.95\n",
      "deit.encoder.layer.5.intermediate.dense, sparsity = 29.95\n",
      "deit.encoder.layer.5.output.dense, sparsity = 29.95\n",
      "deit.encoder.layer.6.intermediate.dense, sparsity = 29.95\n",
      "deit.encoder.layer.6.output.dense, sparsity = 29.95\n",
      "deit.encoder.layer.7.intermediate.dense, sparsity = 29.95\n",
      "deit.encoder.layer.7.output.dense, sparsity = 29.95\n",
      "deit.encoder.layer.8.intermediate.dense, sparsity = 29.95\n",
      "deit.encoder.layer.8.output.dense, sparsity = 29.95\n",
      "deit.encoder.layer.9.intermediate.dense, sparsity = 29.95\n",
      "deit.encoder.layer.9.output.dense, sparsity = 29.95\n",
      "deit.encoder.layer.10.intermediate.dense, sparsity = 29.95\n",
      "deit.encoder.layer.10.output.dense, sparsity = 29.95\n",
      "deit.encoder.layer.11.intermediate.dense, sparsity = 29.95\n",
      "deit.encoder.layer.11.output.dense, sparsity = 29.95\n",
      "[INFO] Register count_convNd() for <class 'torch.nn.modules.conv.Conv2d'>.\n",
      "[INFO] Register zero_ops() for <class 'torch.nn.modules.dropout.Dropout'>.\n",
      "[INFO] Register count_linear() for <class 'torch.nn.modules.linear.Linear'>.\n",
      "[INFO] Register count_normalization() for <class 'torch.nn.modules.normalization.LayerNorm'>.\n"
     ]
    },
    {
     "name": "stderr",
     "output_type": "stream",
     "text": [
      "Using the latest cached version of the module from /home/dhruv/.cache/huggingface/modules/datasets_modules/datasets/imagenet-1k/09dbb3153f1ac686bac1f40d24f307c383b383bc171f2df5d9e91c1ad57455b9 (last modified on Wed Dec 20 17:18:06 2023) since it couldn't be found locally at imagenet-1k., or remotely on the Hugging Face Hub.\n"
     ]
    },
    {
     "name": "stdout",
     "output_type": "stream",
     "text": [
      "removed heads 0, total_heads=68, percentage removed=0.0\n",
      "deit.encoder.layer.0.intermediate.dense, sparsity = 29.95\n",
      "deit.encoder.layer.0.output.dense, sparsity = 29.95\n",
      "deit.encoder.layer.1.intermediate.dense, sparsity = 29.95\n",
      "deit.encoder.layer.1.output.dense, sparsity = 29.95\n",
      "deit.encoder.layer.2.intermediate.dense, sparsity = 29.95\n",
      "deit.encoder.layer.2.output.dense, sparsity = 29.95\n",
      "deit.encoder.layer.3.intermediate.dense, sparsity = 29.95\n",
      "deit.encoder.layer.3.output.dense, sparsity = 29.95\n",
      "deit.encoder.layer.4.intermediate.dense, sparsity = 29.95\n",
      "deit.encoder.layer.4.output.dense, sparsity = 29.95\n",
      "deit.encoder.layer.5.intermediate.dense, sparsity = 29.95\n",
      "deit.encoder.layer.5.output.dense, sparsity = 29.95\n",
      "deit.encoder.layer.6.intermediate.dense, sparsity = 29.95\n",
      "deit.encoder.layer.6.output.dense, sparsity = 29.95\n",
      "deit.encoder.layer.7.intermediate.dense, sparsity = 29.95\n",
      "deit.encoder.layer.7.output.dense, sparsity = 29.95\n",
      "deit.encoder.layer.8.intermediate.dense, sparsity = 29.95\n",
      "deit.encoder.layer.8.output.dense, sparsity = 29.95\n",
      "deit.encoder.layer.9.intermediate.dense, sparsity = 29.95\n",
      "deit.encoder.layer.9.output.dense, sparsity = 29.95\n",
      "deit.encoder.layer.10.intermediate.dense, sparsity = 29.95\n",
      "deit.encoder.layer.10.output.dense, sparsity = 29.95\n",
      "deit.encoder.layer.11.intermediate.dense, sparsity = 29.95\n",
      "deit.encoder.layer.11.output.dense, sparsity = 29.95\n"
     ]
    },
    {
     "name": "stderr",
     "output_type": "stream",
     "text": [
      "Using the latest cached version of the module from /home/dhruv/.cache/huggingface/modules/datasets_modules/datasets/imagenet-1k/09dbb3153f1ac686bac1f40d24f307c383b383bc171f2df5d9e91c1ad57455b9 (last modified on Wed Dec 20 17:18:06 2023) since it couldn't be found locally at imagenet-1k., or remotely on the Hugging Face Hub.\n"
     ]
    },
    {
     "name": "stdout",
     "output_type": "stream",
     "text": [
      "removed heads 0, total_heads=68, percentage removed=0.0\n",
      "deit.encoder.layer.0.intermediate.dense, sparsity = 29.95\n",
      "deit.encoder.layer.0.output.dense, sparsity = 29.95\n",
      "deit.encoder.layer.1.intermediate.dense, sparsity = 29.95\n",
      "deit.encoder.layer.1.output.dense, sparsity = 29.95\n",
      "deit.encoder.layer.2.intermediate.dense, sparsity = 29.95\n",
      "deit.encoder.layer.2.output.dense, sparsity = 29.95\n",
      "deit.encoder.layer.3.intermediate.dense, sparsity = 29.95\n",
      "deit.encoder.layer.3.output.dense, sparsity = 29.95\n",
      "deit.encoder.layer.4.intermediate.dense, sparsity = 29.95\n",
      "deit.encoder.layer.4.output.dense, sparsity = 29.95\n",
      "deit.encoder.layer.5.intermediate.dense, sparsity = 29.95\n",
      "deit.encoder.layer.5.output.dense, sparsity = 29.95\n",
      "deit.encoder.layer.6.intermediate.dense, sparsity = 29.95\n",
      "deit.encoder.layer.6.output.dense, sparsity = 29.95\n",
      "deit.encoder.layer.7.intermediate.dense, sparsity = 29.95\n",
      "deit.encoder.layer.7.output.dense, sparsity = 29.95\n",
      "deit.encoder.layer.8.intermediate.dense, sparsity = 29.95\n",
      "deit.encoder.layer.8.output.dense, sparsity = 29.95\n",
      "deit.encoder.layer.9.intermediate.dense, sparsity = 29.95\n",
      "deit.encoder.layer.9.output.dense, sparsity = 29.95\n",
      "deit.encoder.layer.10.intermediate.dense, sparsity = 29.95\n",
      "deit.encoder.layer.10.output.dense, sparsity = 29.95\n",
      "deit.encoder.layer.11.intermediate.dense, sparsity = 29.95\n",
      "deit.encoder.layer.11.output.dense, sparsity = 29.95\n",
      "[INFO] Register count_convNd() for <class 'torch.nn.modules.conv.Conv2d'>.\n",
      "[INFO] Register zero_ops() for <class 'torch.nn.modules.dropout.Dropout'>.\n",
      "[INFO] Register count_linear() for <class 'torch.nn.modules.linear.Linear'>.\n",
      "[INFO] Register count_normalization() for <class 'torch.nn.modules.normalization.LayerNorm'>.\n"
     ]
    }
   ],
   "source": [
    "from computing_modules import NetworkToEstimator\n",
    "import os\n",
    "import time\n",
    "import yaml\n",
    "import numpy as np\n",
    "from matplotlib import pyplot as plt\n",
    "\n",
    "batch_size = 8\n",
    "\n",
    "list_of_all_model_paths = [\n",
    "\n",
    "  \"trained-models/deit-small-baseline-imagenet-1k-20240110-014420\",    # 0\n",
    "  \"trained-models/deit-small-baseline-imagenet-1k-20240110-014420\",    # 1\n",
    "\n",
    "  \"trained-models/imagenet-1k_deit_drop_tokens_variant_i_small/epochs_11_blockPruningInfo_finalThreshold_0.5_blockSize_16_method_topK_tokenDropInfo_layerCount_3_layerType_default_keepRate_0.5_fused_True_20240101-235238\",\n",
    "  \"trained-models/imagenet-1k_deit_drop_tokens_variant_i_small/epochs_11_blockPruningInfo_finalThreshold_0.5_blockSize_16_method_topK_tokenDropInfo_layerCount_3_layerType_default_keepRate_0.7_fused_True_20240103-090826\",\n",
    "  \"trained-models/imagenet-1k_deit_drop_tokens_variant_i_small/epochs_11_blockPruningInfo_finalThreshold_0.5_blockSize_16_method_topK_tokenDropInfo_layerCount_3_layerType_default_keepRate_0.9_fused_True_20240103-093438\",\n",
    "  \n",
    "  \"trained-models/imagenet-1k_deit_drop_tokens_variant_i_small/epochs_11_blockPruningInfo_finalThreshold_0.5_blockSize_32_method_topK_tokenDropInfo_layerCount_3_layerType_default_keepRate_0.5_fused_True_20231227-041334\",\n",
    "  \"trained-models/imagenet-1k_deit_drop_tokens_variant_i_small/epochs_11_blockPruningInfo_finalThreshold_0.5_blockSize_32_method_topK_tokenDropInfo_layerCount_3_layerType_default_keepRate_0.7_fused_True_20231228-182949\",\n",
    "  \"trained-models/imagenet-1k_deit_drop_tokens_variant_i_small/epochs_11_blockPruningInfo_finalThreshold_0.5_blockSize_32_method_topK_tokenDropInfo_layerCount_3_layerType_default_keepRate_0.9_fused_True_20231230-020027\",\n",
    "  \n",
    "  \"trained-models/imagenet-1k_deit_drop_tokens_variant_i_small/epochs_11_blockPruningInfo_finalThreshold_0.7_blockSize_16_method_topK_tokenDropInfo_layerCount_3_layerType_default_keepRate_0.5_fused_True_20240104-221135\",\n",
    "  \"trained-models/imagenet-1k_deit_drop_tokens_variant_i_small/epochs_11_blockPruningInfo_finalThreshold_0.7_blockSize_16_method_topK_tokenDropInfo_layerCount_3_layerType_default_keepRate_0.7_fused_True_20240104-222250\",\n",
    "  \"trained-models/imagenet-1k_deit_drop_tokens_variant_i_small/epochs_11_blockPruningInfo_finalThreshold_0.7_blockSize_16_method_topK_tokenDropInfo_layerCount_3_layerType_default_keepRate_0.9_fused_True_20240107-060343\",\n",
    "  \n",
    "  \"trained-models/imagenet-1k_deit_drop_tokens_variant_i_small/epochs_11_blockPruningInfo_finalThreshold_0.7_blockSize_32_method_topK_tokenDropInfo_layerCount_3_layerType_default_keepRate_0.5_fused_True_20231231-113333\",\n",
    "  \"trained-models/imagenet-1k_deit_drop_tokens_variant_i_small/epochs_11_blockPruningInfo_finalThreshold_0.7_blockSize_32_method_topK_tokenDropInfo_layerCount_3_layerType_default_keepRate_0.7_fused_True_20231231-121215\",\n",
    "  \"trained-models/imagenet-1k_deit_drop_tokens_variant_i_small/epochs_11_blockPruningInfo_finalThreshold_0.7_blockSize_32_method_topK_tokenDropInfo_layerCount_3_layerType_default_keepRate_0.9_fused_True_20240101-221041\",\n",
    "\n",
    "\n",
    "]\n",
    "\n",
    "\n",
    "mode_list = ['baseline'] + ['baseline'] + ['simprune' for i in range(12)] \n",
    "\n",
    "list_of_all_result_dicts = []\n",
    "\n",
    "for i, path in enumerate(list_of_all_model_paths):\n",
    "    \n",
    "    if i == 0:                             # 0\n",
    "        block_size_for_baseline = 16          \n",
    "    elif i == 1:                           # 1\n",
    "        block_size_for_baseline = 32      \n",
    "    else:\n",
    "        block_size_for_baseline = None\n",
    "    \n",
    "    \n",
    "    current_network_estimator = NetworkToEstimator._get_network_estimator(context=mode_list[i],\n",
    "                                                                          path_to_model=path,\n",
    "                                                                          _batch_size=batch_size,\n",
    "                                                                          block_size_for_baseline=block_size_for_baseline)\n",
    "    \n",
    "    list_of_all_result_dicts.append(current_network_estimator._compile_all_results())\n",
    "\n",
    "\n",
    "timestr = time.strftime(\"%Y%m%d-%H%M%S\")\n",
    "\n",
    "core_out_dir = str(\"final_results\") + str(\"/\") + str(\"batch_size_\") + str(batch_size) + str(\"_\") + str(timestr)\n",
    "\n",
    "if not os.path.exists(core_out_dir):\n",
    "    os.mkdir(core_out_dir)\n",
    "\n",
    "for result_dict in list_of_all_result_dicts:\n",
    "    if result_dict['context'] == 'baseline':\n",
    "        filename = str(result_dict['context']) + str(\"_\") + str(\"block_size\") + str(\"_\") + str(result_dict['block_size']) + str(\".yaml\")\n",
    "    else:\n",
    "        filename = str(\"blockPruneDensity\") + str(\"_\") + str(result_dict['block_prune_density']) + str(\"_\") + str(\"tokenKeepRate\") + str(\"_\") + str(result_dict['token_keep_rate']) + str(\"_\") + str(\"blockSize\") + str(\"_\") + str(result_dict['block_size']) + str(\".yaml\")\n",
    "    \n",
    "    ovrl_file = os.path.join(core_out_dir, filename)\n",
    "\n",
    "    \n",
    "    with open(ovrl_file, 'w') as convert_file:\n",
    "        convert_file.write(yaml.dump(result_dict))"
   ]
  },
  {
   "cell_type": "code",
   "execution_count": 2,
   "metadata": {},
   "outputs": [
    {
     "name": "stdout",
     "output_type": "stream",
     "text": [
      "[1, 1, 0.5, 0.5, 0.5, 0.5, 0.5, 0.5, 0.7, 0.7, 0.7, 0.7, 0.7, 0.7]\n",
      "[16, 32, 16, 16, 16, 32, 32, 32, 16, 16, 16, 32, 32, 32]\n",
      "[1, 1, 0.5, 0.7, 0.9, 0.5, 0.7, 0.9, 0.5, 0.7, 0.9, 0.5, 0.7, 0.9]\n",
      "[313.00080128205127, 281.43011527377524, 1151.5563283778026, 855.1296376530681, 676.1096649876611, 616.7928007944291, 556.66889334224, 500.17089172133814, 877.0545001666404, 643.7201877088067, 511.942771624036, 470.33148963389397, 424.93880881153115, 386.02487029564355]\n",
      "[1981.587518828685, 1502.8352658778576, 1290.1543169233842, 1267.7560387856606, 1262.8241807738787, 1267.2899206612194, 1265.0357088501535, 1254.8548064595598, 1275.1315977744732, 1286.4677296660227, 1270.5299707803986, 1284.1993224982216, 1287.489812434463, 1263.6181495165715]\n",
      "[89.85441749646824, 111.93830751683356, 187.8624483511568, 160.82047328586282, 135.93774413468302, 211.02884788036232, 191.10909878693533, 156.23749541683185, 192.1982965243533, 155.97077905331858, 113.04538446420007, 193.73043663890303, 156.0214588317459, 133.90782324159323]\n"
     ]
    }
   ],
   "source": [
    "density = []\n",
    "blocksize = []\n",
    "keeprate = []\n",
    "\n",
    "#fpga_latency = []\n",
    "#gpu_latency = []\n",
    "#cpu_latency = []\n",
    "\n",
    "fpga_throughput = []\n",
    "gpu_throughput = []\n",
    "cpu_throughput = []\n",
    "\n",
    "\n",
    "for result_dict in list_of_all_result_dicts:\n",
    "    density.append(result_dict['block_prune_density'] if result_dict['context'] != 'baseline' else 1)\n",
    "    blocksize.append(result_dict['block_size'])\n",
    "    keeprate.append(result_dict['token_keep_rate'] if result_dict['context'] != 'baseline' else 1)\n",
    "    fpga_throughput.append(result_dict['fpga']['throughput_imgs_per_sec'])\n",
    "    gpu_throughput.append(result_dict['gpu']['throughput_imgs_per_sec'])\n",
    "    cpu_throughput.append(result_dict['cpu']['throughput_imgs_per_sec'])\n",
    "\n",
    "print(density)\n",
    "print(blocksize)\n",
    "print(keeprate)\n",
    "print(fpga_throughput)\n",
    "print(gpu_throughput)\n",
    "print(cpu_throughput)"
   ]
  },
  {
   "cell_type": "code",
   "execution_count": 3,
   "metadata": {},
   "outputs": [
    {
     "data": {
      "text/plain": [
       "(0.0, 5000.0)"
      ]
     },
     "execution_count": 3,
     "metadata": {},
     "output_type": "execute_result"
    },
    {
     "data": {
      "image/png": "[encoded data removed]",
      "text/plain": [
       "<Figure size 4000x2000 with 1 Axes>"
      ]
     },
     "metadata": {},
     "output_type": "display_data"
    }
   ],
   "source": [
    "classifier = density\n",
    "latencies = {\n",
    "    'CPU': cpu_throughput,\n",
    "    'GPU': gpu_throughput,\n",
    "    'FPGA': fpga_throughput,\n",
    "}\n",
    "\n",
    "plt.rcParams.update({'font.size': 50, 'font.weight':'bold'})\n",
    "\n",
    "x = np.arange(len(classifier))*2  # the label locations\n",
    "width = 0.4  # the width of the bars\n",
    "multiplier = 0\n",
    "\n",
    "fig, ax = plt.subplots(figsize=(40, 20))\n",
    "\n",
    "for attribute, measurement in latencies.items():\n",
    "    offset = width * multiplier\n",
    "    rects = ax.bar(x + offset, measurement, width, label=attribute)\n",
    "    multiplier += 1\n",
    "\n",
    "# Add some text for labels, title and custom x-axis tick labels, etc.\n",
    "ax.set_ylabel('Latency (ms)', weight='bold')\n",
    "ax.set_title('CPU vs GPU vs FPGA Latency (ms)', weight='bold')\n",
    "ax.set_xticks(x + width, classifier, weight='bold')\n",
    "ax.legend(loc='upper left', ncols=3)\n",
    "ax.set_ylim(0, 5000)\n"
   ]
  }
 ],
 "metadata": {
  "kernelspec": {
   "display_name": "vit_prune_env",
   "language": "python",
   "name": "python3"
  },
  "language_info": {
   "codemirror_mode": {
    "name": "ipython",
    "version": 3
   },
   "file_extension": ".py",
   "mimetype": "text/x-python",
   "name": "python",
   "nbconvert_exporter": "python",
   "pygments_lexer": "ipython3",
   "version": "3.11.5"
  }
 },
 "nbformat": 4,
 "nbformat_minor": 2
}
