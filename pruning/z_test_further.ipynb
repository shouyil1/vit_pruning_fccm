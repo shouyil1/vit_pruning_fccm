{
 "cells": [
  {
   "cell_type": "code",
   "execution_count": null,
   "metadata": {},
   "outputs": [],
   "source": [
    "from computing_modules import NetworkToEstimator, MPCA\n",
    "from transformers import DeiTForImageClassification\n",
    "from deit_token_drop_variant_i import DeiTForImageClassificationDropTokens\n",
    "from pathlib import Path\n",
    "import yaml\n",
    "\n",
    "\n",
    "\n",
    "## block_size = 32\n",
    "## block_size = 16\n",
    "mpca = MPCA(t=12,\n",
    "            c=2,\n",
    "            h=4,\n",
    "            p_pe=8,\n",
    "            frequency=300)\n",
    "\n",
    "model = DeiTForImageClassification.from_pretrained(pretrained_model_name_or_path=\"trained-models/deit-small-baseline-imagenet-1k-20240110-014420/best-baseline-loaded-at-end\")\n",
    "\n",
    "instance = NetworkToEstimator(MPCA=mpca,\n",
    "                              model=model,\n",
    "                              sparse_arguments=None,\n",
    "                              block_size=32)\n",
    "\n",
    "output = instance._estimate_for_FPGA()\n",
    "\n",
    "print(output)"
   ]
  },
  {
   "cell_type": "code",
   "execution_count": null,
   "metadata": {},
   "outputs": [],
   "source": [
    "model_sparse = DeiTForImageClassificationDropTokens.from_pretrained(pretrained_model_name_or_path=\"trained-models/imagenet-1k_deit_drop_tokens_variant_i_small/epochs_11_blockPruningInfo_finalThreshold_0.5_blockSize_32_method_topK_tokenDropInfo_layerCount_3_layerType_default_keepRate_0.5_fused_True_20231227-041334/fine-pruned-MASKED\")\n",
    "sparse_args = yaml.safe_load(Path(\"trained-models/imagenet-1k_deit_drop_tokens_variant_i_small/epochs_11_blockPruningInfo_finalThreshold_0.5_blockSize_32_method_topK_tokenDropInfo_layerCount_3_layerType_default_keepRate_0.5_fused_True_20231227-041334/sparse_training_args.yaml\").read_text())\n",
    "\n",
    "instance_2 = NetworkToEstimator(MPCA=mpca,\n",
    "                                model=model_sparse,\n",
    "                                sparse_arguments=sparse_args,\n",
    "                                block_size=32)\n",
    "\n",
    "print(instance_2._estimate_for_FPGA())"
   ]
  }
 ],
 "metadata": {
  "kernelspec": {
   "display_name": "vit_prune_env",
   "language": "python",
   "name": "python3"
  },
  "language_info": {
   "codemirror_mode": {
    "name": "ipython",
    "version": 3
   },
   "file_extension": ".py",
   "mimetype": "text/x-python",
   "name": "python",
   "nbconvert_exporter": "python",
   "pygments_lexer": "ipython3",
   "version": "3.11.5"
  }
 },
 "nbformat": 4,
 "nbformat_minor": 2
}
